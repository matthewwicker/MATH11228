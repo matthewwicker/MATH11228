{
 "cells": [
  {
   "cell_type": "code",
   "execution_count": 1,
   "id": "a1b2c3d4",
   "metadata": {},
   "outputs": [
    {
     "name": "stdout",
     "output_type": "stream",
     "text": [
      "Using device: cpu\n"
     ]
    }
   ],
   "source": [
    "'''\n",
    "Adversarial Robustness Coursework on MNIST\n",
    "--------------------------------------------\n",
    "In this notebook, we will:\n",
    "  - Train a fully-connected network (FCN) on the MNIST dataset using PyTorch.\n",
    "  - Visualize MNIST images and report the standard test accuracy.\n",
    "  - Implement and visualize the Fast Gradient Sign Method (FGSM) attack and report robust accuracy.\n",
    "  - Introduce Assignment 1: Implementing Projected Gradient Descent (PGD) attack.\n",
    "  - Provide a commented implementation of Interval Bound Propagation (IBP) using a center-radius method.\n",
    "  - Report verified accuracy using IBP.\n",
    "  - Introduce Assignment 2: Adversarial training with PGD.\n",
    "\n",
    "Let's start by importing the necessary libraries.\n",
    "''' \n",
    "\n",
    "import torch\n",
    "import torch.nn as nn\n",
    "import torch.optim as optim\n",
    "import torch.nn.functional as F\n",
    "from torchvision import datasets, transforms\n",
    "from torch.utils.data import DataLoader\n",
    "import matplotlib.pyplot as plt\n",
    "import numpy as np\n",
    "\n",
    "# Check if GPU is available\n",
    "device = torch.device(\"cuda\" if torch.cuda.is_available() else \"cpu\")\n",
    "print(f\"Using device: {device}\")\n"
   ]
  },
  {
   "cell_type": "code",
   "execution_count": 2,
   "id": "e5f6g7h8",
   "metadata": {},
   "outputs": [
    {
     "name": "stdout",
     "output_type": "stream",
     "text": [
      "Epoch 1/5, Loss: 0.2855\n",
      "Epoch 2/5, Loss: 0.1080\n",
      "Epoch 3/5, Loss: 0.0706\n",
      "Epoch 4/5, Loss: 0.0509\n",
      "Epoch 5/5, Loss: 0.0384\n"
     ]
    }
   ],
   "source": [
    "# Define a simple Fully Connected Network (FCN) for MNIST\n",
    "class FCN(nn.Module):\n",
    "    def __init__(self):\n",
    "        super(FCN, self).__init__()\n",
    "        self.fc1 = nn.Linear(28 * 28, 256)\n",
    "        self.fc2 = nn.Linear(256, 128)\n",
    "        self.fc3 = nn.Linear(128, 10)\n",
    "        \n",
    "    def forward(self, x):\n",
    "        # Flatten the image\n",
    "        x = x.view(-1, 28 * 28)\n",
    "        x = F.relu(self.fc1(x))\n",
    "        x = F.relu(self.fc2(x))\n",
    "        x = self.fc3(x)\n",
    "        return x\n",
    "\n",
    "# Prepare the MNIST dataset and dataloaders\n",
    "transform = transforms.Compose([transforms.ToTensor()])\n",
    "train_dataset = datasets.MNIST(root='./data', train=True, download=True, transform=transform)\n",
    "test_dataset  = datasets.MNIST(root='./data', train=False, download=True, transform=transform)\n",
    "\n",
    "train_loader = DataLoader(train_dataset, batch_size=64, shuffle=True)\n",
    "test_loader  = DataLoader(test_dataset, batch_size=64, shuffle=False)\n",
    "\n",
    "# Initialize the network, loss function, and optimizer\n",
    "model = FCN().to(device)\n",
    "criterion = nn.CrossEntropyLoss()\n",
    "optimizer = optim.Adam(model.parameters(), lr=0.001)\n",
    "\n",
    "# Training loop\n",
    "num_epochs = 5\n",
    "model.train()\n",
    "for epoch in range(num_epochs):\n",
    "    running_loss = 0.0\n",
    "    for images, labels in train_loader:\n",
    "        images, labels = images.to(device), labels.to(device)\n",
    "        \n",
    "        optimizer.zero_grad()\n",
    "        outputs = model(images)\n",
    "        loss = criterion(outputs, labels)\n",
    "        loss.backward()\n",
    "        optimizer.step()\n",
    "        \n",
    "        running_loss += loss.item() * images.size(0)\n",
    "    \n",
    "    epoch_loss = running_loss / len(train_loader.dataset)\n",
    "    print(f\"Epoch {epoch+1}/{num_epochs}, Loss: {epoch_loss:.4f}\")\n"
   ]
  },
  {
   "cell_type": "code",
   "execution_count": 3,
   "id": "i9j0k1l2",
   "metadata": {},
   "outputs": [
    {
     "name": "stdout",
     "output_type": "stream",
     "text": [
      "Test Accuracy: 97.61%\n"
     ]
    },
    {
     "data": {
      "image/png": "[encoded data removed]",
      "text/plain": [
       "<Figure size 864x360 with 10 Axes>"
      ]
     },
     "metadata": {
      "needs_background": "light"
     },
     "output_type": "display_data"
    }
   ],
   "source": [
    "# Function to evaluate the model on the test dataset\n",
    "def evaluate(model, loader):\n",
    "    model.eval()\n",
    "    correct = 0\n",
    "    total = 0\n",
    "    with torch.no_grad():\n",
    "        for images, labels in loader:\n",
    "            images, labels = images.to(device), labels.to(device)\n",
    "            outputs = model(images)\n",
    "            preds = outputs.argmax(dim=1)\n",
    "            correct += (preds == labels).sum().item()\n",
    "            total += labels.size(0)\n",
    "    return correct / total\n",
    "\n",
    "test_acc = evaluate(model, test_loader)\n",
    "print(f\"Test Accuracy: {test_acc*100:.2f}%\")\n",
    "\n",
    "# Visualize a batch of MNIST images with their true labels and predictions\n",
    "data_iter = iter(test_loader)\n",
    "images, labels = next(data_iter)\n",
    "images, labels = images.to(device), labels.to(device)\n",
    "outputs = model(images)\n",
    "preds = outputs.argmax(dim=1)\n",
    "\n",
    "# Move data to CPU for visualization\n",
    "images = images.cpu().numpy()\n",
    "\n",
    "fig, axes = plt.subplots(2, 5, figsize=(12, 5))\n",
    "axes = axes.flatten()\n",
    "for i, ax in enumerate(axes):\n",
    "    ax.imshow(images[i].squeeze(), cmap='gray')\n",
    "    ax.set_title(f\"True: {labels[i].item()}\\nPred: {preds[i].item()}\")\n",
    "    ax.axis('off')\n",
    "plt.tight_layout()\n",
    "plt.show()\n"
   ]
  },
  {
   "cell_type": "code",
   "execution_count": 4,
   "id": "m3n4o5p6",
   "metadata": {},
   "outputs": [
    {
     "name": "stdout",
     "output_type": "stream",
     "text": [
      "FGSM Attack Robust Accuracy (epsilon=0.1): 15.74%\n"
     ]
    },
    {
     "data": {
      "image/png": "[encoded data removed]",
      "text/plain": [
       "<Figure size 1080x216 with 5 Axes>"
      ]
     },
     "metadata": {
      "needs_background": "light"
     },
     "output_type": "display_data"
    }
   ],
   "source": [
    "# Function to perform FGSM attack\n",
    "def fgsm_attack(image, epsilon, data_grad):\n",
    "    # Collect the element-wise sign of the data gradient\n",
    "    sign_data_grad = data_grad.sign()\n",
    "    # Create the perturbed image by adjusting each pixel\n",
    "    perturbed_image = image + epsilon * sign_data_grad\n",
    "    # Clamp to maintain [0,1] range\n",
    "    perturbed_image = torch.clamp(perturbed_image, 0, 1)\n",
    "    return perturbed_image\n",
    "\n",
    "# Evaluate model robustness under FGSM attack on the test dataset\n",
    "def test_fgsm(model, loader, epsilon):\n",
    "    correct = 0\n",
    "    adv_examples = []\n",
    "    \n",
    "    # Loop over all examples in test set\n",
    "    for images, labels in loader:\n",
    "        images, labels = images.to(device), labels.to(device)\n",
    "        images.requires_grad = True\n",
    "        \n",
    "        # Forward pass\n",
    "        outputs = model(images)\n",
    "        loss = criterion(outputs, labels)\n",
    "        \n",
    "        # Zero all existing gradients\n",
    "        model.zero_grad()\n",
    "        loss.backward()\n",
    "        \n",
    "        # Collect the data gradient\n",
    "        data_grad = images.grad.data\n",
    "        \n",
    "        # Call FGSM Attack\n",
    "        perturbed_data = fgsm_attack(images, epsilon, data_grad)\n",
    "        \n",
    "        # Re-classify the perturbed image\n",
    "        output = model(perturbed_data)\n",
    "        final_pred = output.argmax(dim=1)\n",
    "        \n",
    "        # Check for success\n",
    "        correct += (final_pred == labels).sum().item()\n",
    "        \n",
    "        # Save some examples for visualization\n",
    "        if len(adv_examples) < 5:\n",
    "            adv_ex = perturbed_data[0].detach().cpu().numpy()\n",
    "            adv_examples.append( (final_pred[0].item(), labels[0].item(), adv_ex) )\n",
    "    \n",
    "    final_acc = correct / len(loader.dataset)\n",
    "    return final_acc, adv_examples\n",
    "\n",
    "epsilon = 0.1  # Perturbation magnitude\n",
    "robust_acc, adv_examples = test_fgsm(model, test_loader, epsilon)\n",
    "print(f\"FGSM Attack Robust Accuracy (epsilon={epsilon}): {robust_acc*100:.2f}%\")\n",
    "\n",
    "# Visualize some adversarial examples\n",
    "fig, axes = plt.subplots(1, len(adv_examples), figsize=(15, 3))\n",
    "for i, (pred, true, ex) in enumerate(adv_examples):\n",
    "    axes[i].imshow(ex.squeeze(), cmap=\"gray\")\n",
    "    axes[i].set_title(f\"True: {true}\\nPred: {pred}\")\n",
    "    axes[i].axis('off')\n",
    "plt.tight_layout()\n",
    "plt.show()\n"
   ]
  },
  {
   "cell_type": "markdown",
   "id": "q7r8s9t0",
   "metadata": {},
   "source": [
    "### Assignment 1: Implementing the PGD Attack\n",
    "\n",
    "**Description:**\n",
    "\n",
    "Projected Gradient Descent (PGD) is an iterative extension of the FGSM attack. In PGD, we:\n",
    "1. Start from the original image.\n",
    "2. At each iteration, take a small FGSM step (with a smaller step size than epsilon).\n",
    "3. After each step, project the perturbed image back into the ε-ball around the original image to ensure the perturbation remains bounded.\n",
    "4. Repeat for a fixed number of iterations.\n",
    "\n",
    "**Your Task:**\n",
    "- Implement the PGD attack using the above approach.\n",
    "- Compare the robust accuracy obtained using PGD with the FGSM robust accuracy reported in Cell 4.\n",
    "- Hint: Use a loop over iterations and consider a step size such as `alpha = epsilon / num_steps`.\n",
    "\n",
    "Please provide your implementation and observations in the notebook."
   ]
  },
  {
   "cell_type": "markdown",
   "id": "deb52b5b",
   "metadata": {},
   "source": [
    "### Additional Cell for Evaluation Purposes\n",
    "\n",
    "\n",
    "No part of this assignment requires you to deal with IBP in any meaningful way. However, as we spent many slides\n",
    "going over the intuition and formulation of IBP, I wanted to provide an implimentation that allows students to explore the ideas and operations that make IBP work. \n",
    "\n",
    "Feel free to use IBP as a metric for evaluating your robustly trained NN (Cell 2)"
   ]
  },
  {
   "cell_type": "code",
   "execution_count": 5,
   "id": "u1v2w3x4",
   "metadata": {},
   "outputs": [
    {
     "name": "stdout",
     "output_type": "stream",
     "text": [
      "IBP output lower bounds: tensor([[ -9.5672, -10.5665,  -2.5642,  -1.2760, -17.9483,  -7.5769, -27.7336,\n",
      "          11.9040,  -8.7929,  -5.2747]], grad_fn=<SubBackward0>)\n",
      "IBP output upper bounds: tensor([[ -2.2322,  -2.6372,   3.6805,   5.1960,  -9.8873,  -0.0344, -19.0694,\n",
      "          19.0020,  -2.1640,   1.6714]], grad_fn=<AddBackward0>)\n"
     ]
    }
   ],
   "source": [
    "# The following is a simplified and commented implementation of Interval Bound Propagation (IBP)\n",
    "# for a linear layer using the center-radius (interval) method.\n",
    "\n",
    "def ibp_linear(W, b, lower, upper):\n",
    "    \"\"\"\n",
    "    Compute the output bounds for a linear layer given input bounds.\n",
    "    \n",
    "    W: Weight matrix of shape (out_features, in_features)\n",
    "    b: Bias vector of shape (out_features)\n",
    "    lower: Lower bound of the input, shape (batch_size, in_features)\n",
    "    upper: Upper bound of the input, shape (batch_size, in_features)\n",
    "    \"\"\"\n",
    "    # Compute the center and radius of the input interval\n",
    "    center = (lower + upper) / 2.0\n",
    "    radius = (upper - lower) / 2.0\n",
    "    \n",
    "    # Linear transformation on the center\n",
    "    new_center = center @ W.t() + b\n",
    "    \n",
    "    # Propagate the radius (using absolute weights)\n",
    "    new_radius = radius @ torch.abs(W).t()\n",
    "    \n",
    "    # New bounds: center +/- radius\n",
    "    new_lower = new_center - new_radius\n",
    "    new_upper = new_center + new_radius\n",
    "    return new_lower, new_upper\n",
    "\n",
    "def ibp_relu(lower, upper):\n",
    "    \"\"\"\n",
    "    Compute the output bounds for a ReLU activation.\n",
    "    \"\"\"\n",
    "    # For ReLU, the lower bound is clamped at 0 and the upper bound is max(upper, 0)\n",
    "    new_lower = torch.clamp(lower, min=0)\n",
    "    new_upper = torch.clamp(upper, min=0)\n",
    "    return new_lower, new_upper\n",
    "\n",
    "# Example: Propagate bounds through our FCN for a given input image and perturbation radius.\n",
    "# Let's take one sample from the test set.\n",
    "model.eval()\n",
    "sample_img, sample_label = next(iter(test_loader))\n",
    "sample_img = sample_img[0:1].to(device)  # Select one image\n",
    "epsilon_ibp = 0.0025\n",
    "\n",
    "# Initialize bounds for the input image\n",
    "lower_bound = torch.clamp(sample_img - epsilon_ibp, 0, 1)\n",
    "upper_bound = torch.clamp(sample_img + epsilon_ibp, 0, 1)\n",
    "\n",
    "# Flatten the image bounds\n",
    "lower_bound = lower_bound.view(1, -1)\n",
    "upper_bound = upper_bound.view(1, -1)\n",
    "\n",
    "# IBP propagation through the network layers\n",
    "# Layer 1: fc1\n",
    "W1, b1 = model.fc1.weight, model.fc1.bias\n",
    "l1_lower, l1_upper = ibp_linear(W1, b1, lower_bound, upper_bound)\n",
    "l1_lower, l1_upper = ibp_relu(l1_lower, l1_upper)\n",
    "\n",
    "# Layer 2: fc2\n",
    "W2, b2 = model.fc2.weight, model.fc2.bias\n",
    "l2_lower, l2_upper = ibp_linear(W2, b2, l1_lower, l1_upper)\n",
    "l2_lower, l2_upper = ibp_relu(l2_lower, l2_upper)\n",
    "\n",
    "# Layer 3: fc3 (output layer, no activation)\n",
    "W3, b3 = model.fc3.weight, model.fc3.bias\n",
    "output_lower, output_upper = ibp_linear(W3, b3, l2_lower, l2_upper)\n",
    "\n",
    "# The bounds (output_lower, output_upper) now give us the interval for each logit.\n",
    "print(\"IBP output lower bounds:\", output_lower)\n",
    "print(\"IBP output upper bounds:\", output_upper)\n"
   ]
  },
  {
   "cell_type": "code",
   "execution_count": 6,
   "id": "y5z6a7b8",
   "metadata": {},
   "outputs": [
    {
     "name": "stdout",
     "output_type": "stream",
     "text": [
      "Verified Accuracy (via IBP): 78.21%\n"
     ]
    }
   ],
   "source": [
    "# Here, we perform a simple verification procedure.\n",
    "# For each test example, if the lower bound for the true class is greater than \n",
    "# the upper bound for all other classes, we consider the prediction as verified robust.\n",
    "\n",
    "def verify_sample(model, image, label, epsilon):\n",
    "    image = image.unsqueeze(0).to(device)  # add batch dimension\n",
    "    lower_bound = torch.clamp(image - epsilon, 0, 1)\n",
    "    upper_bound = torch.clamp(image + epsilon, 0, 1)\n",
    "    lower_bound = lower_bound.view(1, -1)\n",
    "    upper_bound = upper_bound.view(1, -1)\n",
    "    \n",
    "    # Propagate bounds through the network (using IBP functions defined above)\n",
    "    l1_lower, l1_upper = ibp_linear(model.fc1.weight, model.fc1.bias, lower_bound, upper_bound)\n",
    "    l1_lower, l1_upper = ibp_relu(l1_lower, l1_upper)\n",
    "    l2_lower, l2_upper = ibp_linear(model.fc2.weight, model.fc2.bias, l1_lower, l1_upper)\n",
    "    l2_lower, l2_upper = ibp_relu(l2_lower, l2_upper)\n",
    "    out_lower, out_upper = ibp_linear(model.fc3.weight, model.fc3.bias, l2_lower, l2_upper)\n",
    "    \n",
    "    # Check if for the true class, the lower bound exceeds the upper bounds of all others\n",
    "    true_class_lb = out_lower[0, label]\n",
    "    other_class_ubs = torch.cat([out_upper[0, :label], out_upper[0, label+1:]])\n",
    "    \n",
    "    return (true_class_lb > other_class_ubs).all().item()\n",
    "\n",
    "verified = 0\n",
    "total = 0\n",
    "for images, labels in test_loader:\n",
    "    for i in range(len(labels)):\n",
    "        if verify_sample(model, images[i], labels[i].item(), epsilon_ibp):\n",
    "            verified += 1\n",
    "        total += 1\n",
    "\n",
    "verified_accuracy = verified / total\n",
    "print(f\"Verified Accuracy (via IBP): {verified_accuracy*100:.2f}%\")\n"
   ]
  },
  {
   "cell_type": "markdown",
   "id": "c9d0e1f2",
   "metadata": {},
   "source": [
    "### Assignment 2: Adversarial Training\n",
    "\n",
    "**Description:**\n",
    "\n",
    "Adversarial training is one of the most effective methods to improve model robustness. In this assignment, you are asked to modify the training loop (see Cell 2) to incorporate an adversary based on the PGD attack. Here are some guiding points:\n",
    "\n",
    "1. **Adversary Generation:**  \n",
    "   For each batch during training, generate adversarial examples using your PGD implementation (from Assignment 1). Use a suitable number of iterations and a step size (e.g., `alpha = epsilon / num_steps`).\n",
    "\n",
    "2. **Modified Loss:**  \n",
    "   You may consider computing the loss on both the original and adversarial examples. One common approach is to use a weighted sum of the two losses.\n",
    "\n",
    "3. **Training Loop:**  \n",
    "   Update the training loop to include the generation of adversarial examples on-the-fly, and then perform the backward pass based on the modified loss.\n",
    "\n",
    "4. **Evaluation:**  \n",
    "   After adversarial training, evaluate your model’s robust accuracy (using FGSM and/or PGD attacks) and compare it with the baseline results from Cell 4.\n",
    "\n",
    "**Your Task:**\n",
    "- Implement the modifications to perform adversarial training.\n",
    "- Provide a discussion of the robustness gains (or potential trade-offs) observed after training.\n",
    "\n",
    "Please include your code modifications and analysis in the notebook.\n",
    "\n",
    "### Hint 1: Use the training loop provided at the start of the notebook as a starting template\n",
    "### Hint 2: Once you have a working prototype you might want to vectorize your PGD implimentation to speed things up!"
   ]
  }
 ],
 "metadata": {
  "kernelspec": {
   "display_name": "Python 3 (ipykernel)",
   "language": "python",
   "name": "python3"
  },
  "language_info": {
   "codemirror_mode": {
    "name": "ipython",
    "version": 3
   },
   "file_extension": ".py",
   "mimetype": "text/x-python",
   "name": "python",
   "nbconvert_exporter": "python",
   "pygments_lexer": "ipython3",
   "version": "3.9.12"
  }
 },
 "nbformat": 4,
 "nbformat_minor": 5
}
